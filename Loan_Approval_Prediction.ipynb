{
  "nbformat": 4,
  "nbformat_minor": 0,
  "metadata": {
    "colab": {
      "name": "Loan_Approval_Prediction.ipynb",
      "provenance": [],
      "collapsed_sections": [],
      "include_colab_link": true
    },
    "kernelspec": {
      "name": "python3",
      "display_name": "Python 3"
    }
  },
  "cells": [
    {
      "cell_type": "markdown",
      "metadata": {
        "id": "view-in-github",
        "colab_type": "text"
      },
      "source": [
        "<a href=\"https://colab.research.google.com/github/shreyabhandarii/Loan-Approval-Prediction/blob/Beta-model/Loan_Approval_Prediction.ipynb\" target=\"_parent\"><img src=\"https://colab.research.google.com/assets/colab-badge.svg\" alt=\"Open In Colab\"/></a>"
      ]
    },
    {
      "cell_type": "code",
      "metadata": {
        "id": "V8ho1RAUtJuL",
        "colab_type": "code",
        "colab": {}
      },
      "source": [
        "import pandas as pd"
      ],
      "execution_count": 0,
      "outputs": []
    },
    {
      "cell_type": "code",
      "metadata": {
        "id": "sBZZPdCKwAa4",
        "colab_type": "code",
        "colab": {}
      },
      "source": [
        "import matplotlib.pyplot as plt"
      ],
      "execution_count": 0,
      "outputs": []
    },
    {
      "cell_type": "code",
      "metadata": {
        "id": "5B9NgV2_w0RO",
        "colab_type": "code",
        "colab": {}
      },
      "source": [
        "import numpy as np"
      ],
      "execution_count": 0,
      "outputs": []
    },
    {
      "cell_type": "code",
      "metadata": {
        "id": "yywPVuXK2PqV",
        "colab_type": "code",
        "colab": {}
      },
      "source": [
        "# from google.colab import drive \n",
        "# drive.mount('/content/gdrive')"
      ],
      "execution_count": 0,
      "outputs": []
    },
    {
      "cell_type": "code",
      "metadata": {
        "id": "l6N6pZDMtv20",
        "colab_type": "code",
        "colab": {}
      },
      "source": [
        "LAP=pd.read_csv('/content/gdrive/My Drive/data/LAP/train.csv')"
      ],
      "execution_count": 0,
      "outputs": []
    },
    {
      "cell_type": "code",
      "metadata": {
        "id": "yR0FaycbvK9e",
        "colab_type": "code",
        "outputId": "62d9fdd4-94e8-4bed-f06c-45eefdb8bf5e",
        "colab": {
          "base_uri": "https://localhost:8080/",
          "height": 235
        }
      },
      "source": [
        "LAP.head()"
      ],
      "execution_count": 114,
      "outputs": [
        {
          "output_type": "execute_result",
          "data": {
            "text/html": [
              "<div>\n",
              "<style scoped>\n",
              "    .dataframe tbody tr th:only-of-type {\n",
              "        vertical-align: middle;\n",
              "    }\n",
              "\n",
              "    .dataframe tbody tr th {\n",
              "        vertical-align: top;\n",
              "    }\n",
              "\n",
              "    .dataframe thead th {\n",
              "        text-align: right;\n",
              "    }\n",
              "</style>\n",
              "<table border=\"1\" class=\"dataframe\">\n",
              "  <thead>\n",
              "    <tr style=\"text-align: right;\">\n",
              "      <th></th>\n",
              "      <th>Loan_ID</th>\n",
              "      <th>Gender</th>\n",
              "      <th>Married</th>\n",
              "      <th>Dependents</th>\n",
              "      <th>Education</th>\n",
              "      <th>Self_Employed</th>\n",
              "      <th>ApplicantIncome</th>\n",
              "      <th>CoapplicantIncome</th>\n",
              "      <th>LoanAmount</th>\n",
              "      <th>Loan_Amount_Term</th>\n",
              "      <th>Credit_History</th>\n",
              "      <th>Property_Area</th>\n",
              "      <th>Loan_Status</th>\n",
              "    </tr>\n",
              "  </thead>\n",
              "  <tbody>\n",
              "    <tr>\n",
              "      <th>0</th>\n",
              "      <td>LP001002</td>\n",
              "      <td>Male</td>\n",
              "      <td>No</td>\n",
              "      <td>0</td>\n",
              "      <td>Graduate</td>\n",
              "      <td>No</td>\n",
              "      <td>5849</td>\n",
              "      <td>0.0</td>\n",
              "      <td>NaN</td>\n",
              "      <td>360.0</td>\n",
              "      <td>1.0</td>\n",
              "      <td>Urban</td>\n",
              "      <td>Y</td>\n",
              "    </tr>\n",
              "    <tr>\n",
              "      <th>1</th>\n",
              "      <td>LP001003</td>\n",
              "      <td>Male</td>\n",
              "      <td>Yes</td>\n",
              "      <td>1</td>\n",
              "      <td>Graduate</td>\n",
              "      <td>No</td>\n",
              "      <td>4583</td>\n",
              "      <td>1508.0</td>\n",
              "      <td>128.0</td>\n",
              "      <td>360.0</td>\n",
              "      <td>1.0</td>\n",
              "      <td>Rural</td>\n",
              "      <td>N</td>\n",
              "    </tr>\n",
              "    <tr>\n",
              "      <th>2</th>\n",
              "      <td>LP001005</td>\n",
              "      <td>Male</td>\n",
              "      <td>Yes</td>\n",
              "      <td>0</td>\n",
              "      <td>Graduate</td>\n",
              "      <td>Yes</td>\n",
              "      <td>3000</td>\n",
              "      <td>0.0</td>\n",
              "      <td>66.0</td>\n",
              "      <td>360.0</td>\n",
              "      <td>1.0</td>\n",
              "      <td>Urban</td>\n",
              "      <td>Y</td>\n",
              "    </tr>\n",
              "    <tr>\n",
              "      <th>3</th>\n",
              "      <td>LP001006</td>\n",
              "      <td>Male</td>\n",
              "      <td>Yes</td>\n",
              "      <td>0</td>\n",
              "      <td>Not Graduate</td>\n",
              "      <td>No</td>\n",
              "      <td>2583</td>\n",
              "      <td>2358.0</td>\n",
              "      <td>120.0</td>\n",
              "      <td>360.0</td>\n",
              "      <td>1.0</td>\n",
              "      <td>Urban</td>\n",
              "      <td>Y</td>\n",
              "    </tr>\n",
              "    <tr>\n",
              "      <th>4</th>\n",
              "      <td>LP001008</td>\n",
              "      <td>Male</td>\n",
              "      <td>No</td>\n",
              "      <td>0</td>\n",
              "      <td>Graduate</td>\n",
              "      <td>No</td>\n",
              "      <td>6000</td>\n",
              "      <td>0.0</td>\n",
              "      <td>141.0</td>\n",
              "      <td>360.0</td>\n",
              "      <td>1.0</td>\n",
              "      <td>Urban</td>\n",
              "      <td>Y</td>\n",
              "    </tr>\n",
              "  </tbody>\n",
              "</table>\n",
              "</div>"
            ],
            "text/plain": [
              "    Loan_ID Gender Married  ... Credit_History Property_Area Loan_Status\n",
              "0  LP001002   Male      No  ...            1.0         Urban           Y\n",
              "1  LP001003   Male     Yes  ...            1.0         Rural           N\n",
              "2  LP001005   Male     Yes  ...            1.0         Urban           Y\n",
              "3  LP001006   Male     Yes  ...            1.0         Urban           Y\n",
              "4  LP001008   Male      No  ...            1.0         Urban           Y\n",
              "\n",
              "[5 rows x 13 columns]"
            ]
          },
          "metadata": {
            "tags": []
          },
          "execution_count": 114
        }
      ]
    },
    {
      "cell_type": "code",
      "metadata": {
        "id": "aPNSZSFHt0Si",
        "colab_type": "code",
        "colab": {}
      },
      "source": [
        "# plt.plot(np.arange(5))"
      ],
      "execution_count": 0,
      "outputs": []
    },
    {
      "cell_type": "code",
      "metadata": {
        "id": "Gx4u5JoNy6L1",
        "colab_type": "code",
        "outputId": "0899b307-8379-4238-ded4-6479acbe69c8",
        "colab": {
          "base_uri": "https://localhost:8080/",
          "height": 345
        }
      },
      "source": [
        "LAP.info()"
      ],
      "execution_count": 116,
      "outputs": [
        {
          "output_type": "stream",
          "text": [
            "<class 'pandas.core.frame.DataFrame'>\n",
            "RangeIndex: 614 entries, 0 to 613\n",
            "Data columns (total 13 columns):\n",
            "Loan_ID              614 non-null object\n",
            "Gender               601 non-null object\n",
            "Married              611 non-null object\n",
            "Dependents           599 non-null object\n",
            "Education            614 non-null object\n",
            "Self_Employed        582 non-null object\n",
            "ApplicantIncome      614 non-null int64\n",
            "CoapplicantIncome    614 non-null float64\n",
            "LoanAmount           592 non-null float64\n",
            "Loan_Amount_Term     600 non-null float64\n",
            "Credit_History       564 non-null float64\n",
            "Property_Area        614 non-null object\n",
            "Loan_Status          614 non-null object\n",
            "dtypes: float64(4), int64(1), object(8)\n",
            "memory usage: 62.4+ KB\n"
          ],
          "name": "stdout"
        }
      ]
    },
    {
      "cell_type": "code",
      "metadata": {
        "id": "NBjyNgIjzK7i",
        "colab_type": "code",
        "outputId": "4691a3e3-f6ef-4211-96cd-5b62896a837b",
        "colab": {
          "base_uri": "https://localhost:8080/",
          "height": 288
        }
      },
      "source": [
        "LAP.describe()"
      ],
      "execution_count": 117,
      "outputs": [
        {
          "output_type": "execute_result",
          "data": {
            "text/html": [
              "<div>\n",
              "<style scoped>\n",
              "    .dataframe tbody tr th:only-of-type {\n",
              "        vertical-align: middle;\n",
              "    }\n",
              "\n",
              "    .dataframe tbody tr th {\n",
              "        vertical-align: top;\n",
              "    }\n",
              "\n",
              "    .dataframe thead th {\n",
              "        text-align: right;\n",
              "    }\n",
              "</style>\n",
              "<table border=\"1\" class=\"dataframe\">\n",
              "  <thead>\n",
              "    <tr style=\"text-align: right;\">\n",
              "      <th></th>\n",
              "      <th>ApplicantIncome</th>\n",
              "      <th>CoapplicantIncome</th>\n",
              "      <th>LoanAmount</th>\n",
              "      <th>Loan_Amount_Term</th>\n",
              "      <th>Credit_History</th>\n",
              "    </tr>\n",
              "  </thead>\n",
              "  <tbody>\n",
              "    <tr>\n",
              "      <th>count</th>\n",
              "      <td>614.000000</td>\n",
              "      <td>614.000000</td>\n",
              "      <td>592.000000</td>\n",
              "      <td>600.00000</td>\n",
              "      <td>564.000000</td>\n",
              "    </tr>\n",
              "    <tr>\n",
              "      <th>mean</th>\n",
              "      <td>5403.459283</td>\n",
              "      <td>1621.245798</td>\n",
              "      <td>146.412162</td>\n",
              "      <td>342.00000</td>\n",
              "      <td>0.842199</td>\n",
              "    </tr>\n",
              "    <tr>\n",
              "      <th>std</th>\n",
              "      <td>6109.041673</td>\n",
              "      <td>2926.248369</td>\n",
              "      <td>85.587325</td>\n",
              "      <td>65.12041</td>\n",
              "      <td>0.364878</td>\n",
              "    </tr>\n",
              "    <tr>\n",
              "      <th>min</th>\n",
              "      <td>150.000000</td>\n",
              "      <td>0.000000</td>\n",
              "      <td>9.000000</td>\n",
              "      <td>12.00000</td>\n",
              "      <td>0.000000</td>\n",
              "    </tr>\n",
              "    <tr>\n",
              "      <th>25%</th>\n",
              "      <td>2877.500000</td>\n",
              "      <td>0.000000</td>\n",
              "      <td>100.000000</td>\n",
              "      <td>360.00000</td>\n",
              "      <td>1.000000</td>\n",
              "    </tr>\n",
              "    <tr>\n",
              "      <th>50%</th>\n",
              "      <td>3812.500000</td>\n",
              "      <td>1188.500000</td>\n",
              "      <td>128.000000</td>\n",
              "      <td>360.00000</td>\n",
              "      <td>1.000000</td>\n",
              "    </tr>\n",
              "    <tr>\n",
              "      <th>75%</th>\n",
              "      <td>5795.000000</td>\n",
              "      <td>2297.250000</td>\n",
              "      <td>168.000000</td>\n",
              "      <td>360.00000</td>\n",
              "      <td>1.000000</td>\n",
              "    </tr>\n",
              "    <tr>\n",
              "      <th>max</th>\n",
              "      <td>81000.000000</td>\n",
              "      <td>41667.000000</td>\n",
              "      <td>700.000000</td>\n",
              "      <td>480.00000</td>\n",
              "      <td>1.000000</td>\n",
              "    </tr>\n",
              "  </tbody>\n",
              "</table>\n",
              "</div>"
            ],
            "text/plain": [
              "       ApplicantIncome  CoapplicantIncome  ...  Loan_Amount_Term  Credit_History\n",
              "count       614.000000         614.000000  ...         600.00000      564.000000\n",
              "mean       5403.459283        1621.245798  ...         342.00000        0.842199\n",
              "std        6109.041673        2926.248369  ...          65.12041        0.364878\n",
              "min         150.000000           0.000000  ...          12.00000        0.000000\n",
              "25%        2877.500000           0.000000  ...         360.00000        1.000000\n",
              "50%        3812.500000        1188.500000  ...         360.00000        1.000000\n",
              "75%        5795.000000        2297.250000  ...         360.00000        1.000000\n",
              "max       81000.000000       41667.000000  ...         480.00000        1.000000\n",
              "\n",
              "[8 rows x 5 columns]"
            ]
          },
          "metadata": {
            "tags": []
          },
          "execution_count": 117
        }
      ]
    },
    {
      "cell_type": "code",
      "metadata": {
        "id": "Tc6VvVvP-Gg4",
        "colab_type": "code",
        "colab": {}
      },
      "source": [
        "# LAP.mode(numeric_only=True)"
      ],
      "execution_count": 0,
      "outputs": []
    },
    {
      "cell_type": "code",
      "metadata": {
        "id": "1qv95zlW6FK_",
        "colab_type": "code",
        "colab": {}
      },
      "source": [
        "# np.mean(LAP['LoanAmount_log'])"
      ],
      "execution_count": 0,
      "outputs": []
    },
    {
      "cell_type": "code",
      "metadata": {
        "id": "xcvbERgq6X1o",
        "colab_type": "code",
        "colab": {}
      },
      "source": [
        "# np.mean(LAP.LoanAmount_log)"
      ],
      "execution_count": 0,
      "outputs": []
    },
    {
      "cell_type": "code",
      "metadata": {
        "id": "D9zMi00_6MdH",
        "colab_type": "code",
        "colab": {}
      },
      "source": [
        "# LAP['LoanAmount_log'].mean()"
      ],
      "execution_count": 0,
      "outputs": []
    },
    {
      "cell_type": "code",
      "metadata": {
        "id": "5shmMrdhZrU0",
        "colab_type": "code",
        "outputId": "5cd335ce-f641-4278-f809-c630fcdb3d29",
        "colab": {
          "base_uri": "https://localhost:8080/",
          "height": 54
        }
      },
      "source": [
        "from scipy.stats import mode\n",
        "mode(LAP)"
      ],
      "execution_count": 122,
      "outputs": [
        {
          "output_type": "execute_result",
          "data": {
            "text/plain": [
              "ModeResult(mode=array([['LP002940', 'Male', 'Yes', '0', 'Graduate', 'No', 2500, 0.0,\n",
              "        120.0, 360.0, 1.0, 'Semiurban', 'Y']], dtype=object), count=array([[  1, 489, 398, 345, 480, 500,   9, 273,  20, 512, 475, 233, 422]]))"
            ]
          },
          "metadata": {
            "tags": []
          },
          "execution_count": 122
        }
      ]
    },
    {
      "cell_type": "markdown",
      "metadata": {
        "id": "vxjbEyli2HIb",
        "colab_type": "text"
      },
      "source": [
        "1.   The distibution of 'ApplicantIncome' is right-skewed cuz mode<median<mean\n",
        "2.   Most(345/614=56.2%) of the times the coapplicants income is not specified(0)\n",
        "3.   The distibution of 'LoanAmount' is right-skewed cuz mode<median<mean\n",
        "4.   Most of the people have taken loan for 360 days(475=77.4%)\n",
        "5.   Most of the people have a credit history(84%)\n",
        "\n"
      ]
    },
    {
      "cell_type": "code",
      "metadata": {
        "id": "bz0vESqfzSSx",
        "colab_type": "code",
        "outputId": "c91b3294-a857-4722-a244-f0e6a8221d6a",
        "colab": {
          "base_uri": "https://localhost:8080/",
          "height": 272
        }
      },
      "source": [
        "LAP.isnull().sum().sort_values(ascending=False)"
      ],
      "execution_count": 123,
      "outputs": [
        {
          "output_type": "execute_result",
          "data": {
            "text/plain": [
              "Credit_History       50\n",
              "Self_Employed        32\n",
              "LoanAmount           22\n",
              "Dependents           15\n",
              "Loan_Amount_Term     14\n",
              "Gender               13\n",
              "Married               3\n",
              "Loan_Status           0\n",
              "Property_Area         0\n",
              "CoapplicantIncome     0\n",
              "ApplicantIncome       0\n",
              "Education             0\n",
              "Loan_ID               0\n",
              "dtype: int64"
            ]
          },
          "metadata": {
            "tags": []
          },
          "execution_count": 123
        }
      ]
    },
    {
      "cell_type": "code",
      "metadata": {
        "id": "zo-UNbRTYAK6",
        "colab_type": "code",
        "colab": {}
      },
      "source": [
        "LAP['Married'].fillna(mode(LAP['Married']).mode[0],inplace=True)"
      ],
      "execution_count": 0,
      "outputs": []
    },
    {
      "cell_type": "code",
      "metadata": {
        "id": "I8FpVacLejw_",
        "colab_type": "code",
        "colab": {}
      },
      "source": [
        "LAP['Gender'].fillna(mode(LAP['Gender']).mode[0],inplace=True)"
      ],
      "execution_count": 0,
      "outputs": []
    },
    {
      "cell_type": "code",
      "metadata": {
        "id": "kCNeiD63Yk1C",
        "colab_type": "code",
        "colab": {}
      },
      "source": [
        "LAP['Loan_Amount_Term'].fillna(LAP['Loan_Amount_Term'].median(),inplace=True)"
      ],
      "execution_count": 0,
      "outputs": []
    },
    {
      "cell_type": "code",
      "metadata": {
        "id": "v1P68BglasZN",
        "colab_type": "code",
        "colab": {}
      },
      "source": [
        "LAP['Dependents'].fillna(mode(LAP['Dependents']).mode[0],inplace=True)"
      ],
      "execution_count": 0,
      "outputs": []
    },
    {
      "cell_type": "code",
      "metadata": {
        "id": "1NIQow0ubWgq",
        "colab_type": "code",
        "colab": {}
      },
      "source": [
        "LAP['Credit_History'].fillna(mode(LAP['Credit_History']).mode[0],inplace=True)"
      ],
      "execution_count": 0,
      "outputs": []
    },
    {
      "cell_type": "markdown",
      "metadata": {
        "id": "75B59lWtXq8_",
        "colab_type": "text"
      },
      "source": [
        "There are missing values in some variables. We should estimate those values wisely depending on the amount of missing values and the expected importance of variables. We first try to impute loan Amount. Aim is to build a supervised learning model to predict loan amount on the basis of other variables and then use age along with other variables to predict survival. A key hypothesis is that the whether a person is educated or self-employed can combine to give a good estimate of loan amount. First, let's look at the boxplot to see if a trend exists:"
      ]
    },
    {
      "cell_type": "code",
      "metadata": {
        "id": "OQEiit8ha-7Z",
        "colab_type": "code",
        "colab": {}
      },
      "source": [
        "# LAP['Dependents']\n"
      ],
      "execution_count": 0,
      "outputs": []
    },
    {
      "cell_type": "code",
      "metadata": {
        "id": "p_U65sWNqQep",
        "colab_type": "code",
        "outputId": "0c216342-7940-4035-d108-2ebc2ce5b104",
        "colab": {
          "base_uri": "https://localhost:8080/",
          "height": 302
        }
      },
      "source": [
        "LAP.boxplot(column='LoanAmount', by=['Self_Employed','Education']);"
      ],
      "execution_count": 129,
      "outputs": [
        {
          "output_type": "display_data",
          "data": {
            "image/png": "[encoded data removed]",
            "text/plain": [
              "<Figure size 432x288 with 1 Axes>"
            ]
          },
          "metadata": {
            "tags": []
          }
        }
      ]
    },
    {
      "cell_type": "markdown",
      "metadata": {
        "id": "3n9WO-tWrH7u",
        "colab_type": "text"
      },
      "source": [
        "Thus we see some variations in the median of loan amount for each group and this can be used to impute the 22 values. But first, we have to ensure that each of Self_Employed and Education variables should not have a missing values."
      ]
    },
    {
      "cell_type": "code",
      "metadata": {
        "id": "MRhkaS_bmn7c",
        "colab_type": "code",
        "colab": {}
      },
      "source": [
        "LAP['Self_Employed'].fillna(mode(LAP['Self_Employed']).mode[0],inplace=True)"
      ],
      "execution_count": 0,
      "outputs": []
    },
    {
      "cell_type": "markdown",
      "metadata": {
        "id": "e2xE25h7pg2d",
        "colab_type": "text"
      },
      "source": [
        "Since ~86% values are \"No\", it is safe to impute the 36 missing values as \"No\" as there is a high probability of success"
      ]
    },
    {
      "cell_type": "code",
      "metadata": {
        "id": "6YmCOyCKo71B",
        "colab_type": "code",
        "outputId": "585bb655-9dea-49c6-9273-7ddae560fca7",
        "colab": {
          "base_uri": "https://localhost:8080/",
          "height": 72
        }
      },
      "source": [
        "LAP['Self_Employed'].value_counts()"
      ],
      "execution_count": 131,
      "outputs": [
        {
          "output_type": "execute_result",
          "data": {
            "text/plain": [
              "No     532\n",
              "Yes     82\n",
              "Name: Self_Employed, dtype: int64"
            ]
          },
          "metadata": {
            "tags": []
          },
          "execution_count": 131
        }
      ]
    },
    {
      "cell_type": "code",
      "metadata": {
        "id": "YBkxH1Zsrbz3",
        "colab_type": "code",
        "outputId": "996ea657-7c01-40cb-c10a-4a8a74decf43",
        "colab": {
          "base_uri": "https://localhost:8080/",
          "height": 90
        }
      },
      "source": [
        "table = LAP.pivot_table(values='LoanAmount', index='Self_Employed' ,columns='Education', aggfunc=np.median)\n",
        "print(table)"
      ],
      "execution_count": 132,
      "outputs": [
        {
          "output_type": "stream",
          "text": [
            "Education      Graduate  Not Graduate\n",
            "Self_Employed                        \n",
            "No                130.0         113.0\n",
            "Yes               157.5         130.0\n"
          ],
          "name": "stdout"
        }
      ]
    },
    {
      "cell_type": "code",
      "metadata": {
        "id": "n0GERAnNsaSm",
        "colab_type": "code",
        "colab": {}
      },
      "source": [
        "# # Define function to return value of this pivot_table \n",
        "# def fage(x): \n",
        "#     return table.loc[x['Self_Employed'],x['Education']] \n",
        "# # Replace missing values\n",
        "# LAP['LoanAmount'][LAP['LoanAmount'].isnull()] = LAP[LAP['LoanAmount'].isnull()].apply(fage, axis=1)"
      ],
      "execution_count": 0,
      "outputs": []
    },
    {
      "cell_type": "code",
      "metadata": {
        "id": "93MbvWBtLcFX",
        "colab_type": "code",
        "outputId": "40aadca2-74ef-4923-a64a-a8b09298a074",
        "colab": {
          "base_uri": "https://localhost:8080/",
          "height": 108
        }
      },
      "source": [
        "def fage(x):\n",
        "  return table.loc[x['Self_Employed'],x['Education']]\n",
        "LAP['LoanAmount'][LAP['LoanAmount'].isnull()]=LAP[LAP['LoanAmount'].isnull()].apply(fage,axis=1)#didt understand how it replaced with the tabkle vayes, lhs= sirf null values of loanamt clm, rhs m pura data frame with only rows with loan amt clm with an m fage apply kiya har row pr, usee kese replace hogya?,, basically we want ki kisi m agr no h ang grad simultaneously h to usme ye values daldo jo table mh, han to sh tp h, hum keh e h ki loanamt ki sirf nan vali values dikhao or ab vo equal h sirf ese data frme k jise noor grad h ki values h vo vali jo table , h, leking is df ka size is greater tgan the clm loan amt"
      ],
      "execution_count": 134,
      "outputs": [
        {
          "output_type": "stream",
          "text": [
            "/usr/local/lib/python3.6/dist-packages/ipykernel_launcher.py:3: SettingWithCopyWarning: \n",
            "A value is trying to be set on a copy of a slice from a DataFrame\n",
            "\n",
            "See the caveats in the documentation: http://pandas.pydata.org/pandas-docs/stable/indexing.html#indexing-view-versus-copy\n",
            "  This is separate from the ipykernel package so we can avoid doing imports until\n"
          ],
          "name": "stderr"
        }
      ]
    },
    {
      "cell_type": "code",
      "metadata": {
        "id": "M_St2WJSI7N4",
        "colab_type": "code",
        "colab": {}
      },
      "source": [
        "# y=LAP[LAP['LoanAmount'].isnull()]\n",
        "# print(y)"
      ],
      "execution_count": 0,
      "outputs": []
    },
    {
      "cell_type": "code",
      "metadata": {
        "id": "hNOYiG1hGQx-",
        "colab_type": "code",
        "colab": {}
      },
      "source": [
        "# table.loc[y['Self_Employed'],y['Education']]"
      ],
      "execution_count": 0,
      "outputs": []
    },
    {
      "cell_type": "code",
      "metadata": {
        "id": "4zN5HTdAeEXT",
        "colab_type": "code",
        "outputId": "c4f93169-4910-41d6-9e59-ead9b7d937d8",
        "colab": {
          "base_uri": "https://localhost:8080/",
          "height": 272
        }
      },
      "source": [
        "LAP.isnull().sum()"
      ],
      "execution_count": 137,
      "outputs": [
        {
          "output_type": "execute_result",
          "data": {
            "text/plain": [
              "Loan_ID              0\n",
              "Gender               0\n",
              "Married              0\n",
              "Dependents           0\n",
              "Education            0\n",
              "Self_Employed        0\n",
              "ApplicantIncome      0\n",
              "CoapplicantIncome    0\n",
              "LoanAmount           0\n",
              "Loan_Amount_Term     0\n",
              "Credit_History       0\n",
              "Property_Area        0\n",
              "Loan_Status          0\n",
              "dtype: int64"
            ]
          },
          "metadata": {
            "tags": []
          },
          "execution_count": 137
        }
      ]
    },
    {
      "cell_type": "code",
      "metadata": {
        "id": "FtjFmyKA0AyP",
        "colab_type": "code",
        "outputId": "9004a5ab-e8ad-41a7-c7e0-4e456c201b97",
        "colab": {
          "base_uri": "https://localhost:8080/",
          "height": 269
        }
      },
      "source": [
        "LAP['ApplicantIncome'].hist(bins=50);"
      ],
      "execution_count": 138,
      "outputs": [
        {
          "output_type": "display_data",
          "data": {
            "image/png": "[encoded data removed]",
            "text/plain": [
              "<Figure size 432x288 with 1 Axes>"
            ]
          },
          "metadata": {
            "tags": []
          }
        }
      ]
    },
    {
      "cell_type": "code",
      "metadata": {
        "id": "SfQeU7g3DrFM",
        "colab_type": "code",
        "colab": {}
      },
      "source": [
        "# LAP.hist(bins=50)"
      ],
      "execution_count": 0,
      "outputs": []
    },
    {
      "cell_type": "code",
      "metadata": {
        "id": "uVsS9W_DCdFE",
        "colab_type": "code",
        "outputId": "54bb0bf9-6f4c-4a95-8537-ec13417d58a9",
        "colab": {
          "base_uri": "https://localhost:8080/",
          "height": 269
        }
      },
      "source": [
        "LAP.boxplot(column='ApplicantIncome');"
      ],
      "execution_count": 140,
      "outputs": [
        {
          "output_type": "display_data",
          "data": {
            "image/png": "[encoded data removed]",
            "text/plain": [
              "<Figure size 432x288 with 1 Axes>"
            ]
          },
          "metadata": {
            "tags": []
          }
        }
      ]
    },
    {
      "cell_type": "markdown",
      "metadata": {
        "id": "C_xlJWcwDUwU",
        "colab_type": "text"
      },
      "source": [
        "This confirms the presence of a lot of outliers/extreme values. This can be attributed to the obsevation that most of the people who take loans belong to income group of < 10000 *per month* . We should look at the data grouped by education level to get a clearer picture."
      ]
    },
    {
      "cell_type": "code",
      "metadata": {
        "id": "Q910E3iwFq-g",
        "colab_type": "code",
        "colab": {}
      },
      "source": [
        "# LAP.boxplot(column='LoanAmount')"
      ],
      "execution_count": 0,
      "outputs": []
    },
    {
      "cell_type": "code",
      "metadata": {
        "id": "hzCifnWQi1I6",
        "colab_type": "code",
        "outputId": "d1e287c0-6c0f-4d66-ff3c-c3bce4a7162e",
        "colab": {
          "base_uri": "https://localhost:8080/",
          "height": 283
        }
      },
      "source": [
        "import seaborn as sns\n",
        "sns.boxplot(LAP['LoanAmount']);#for better sundarta"
      ],
      "execution_count": 142,
      "outputs": [
        {
          "output_type": "display_data",
          "data": {
            "image/png": "[encoded data removed]",
            "text/plain": [
              "<Figure size 432x288 with 1 Axes>"
            ]
          },
          "metadata": {
            "tags": []
          }
        }
      ]
    },
    {
      "cell_type": "markdown",
      "metadata": {
        "id": "gK7lTCETGTsI",
        "colab_type": "text"
      },
      "source": [
        "There are some extreme values. Clearly, both ApplicantIncome and LoanAmount (most of them being within the range of 2.5 Lakhs) require some amount of data munging. LoanAmount had missing which we have imputed, and now we treat for  extreme values, while ApplicantIncome has a few extreme values."
      ]
    },
    {
      "cell_type": "code",
      "metadata": {
        "id": "89zm2c_lD28x",
        "colab_type": "code",
        "colab": {}
      },
      "source": [
        "# LAP.boxplot( )"
      ],
      "execution_count": 0,
      "outputs": []
    },
    {
      "cell_type": "code",
      "metadata": {
        "id": "GqQhw0CiDHZk",
        "colab_type": "code",
        "outputId": "3d47ba5f-f3b8-4e6b-9cd9-3ffb6c177a78",
        "colab": {
          "base_uri": "https://localhost:8080/",
          "height": 301
        }
      },
      "source": [
        "LAP.boxplot(column='ApplicantIncome', by = ['Education']);"
      ],
      "execution_count": 144,
      "outputs": [
        {
          "output_type": "display_data",
          "data": {
            "image/png": "[encoded data removed]",
            "text/plain": [
              "<Figure size 432x288 with 1 Axes>"
            ]
          },
          "metadata": {
            "tags": []
          }
        }
      ]
    },
    {
      "cell_type": "code",
      "metadata": {
        "id": "jAC0Hd8df3WU",
        "colab_type": "code",
        "outputId": "c68a9892-2a23-4ec5-8cd8-bb575d57abd0",
        "colab": {
          "base_uri": "https://localhost:8080/",
          "height": 138
        }
      },
      "source": [
        "LAP.groupby(['Education']).median()#.size()krne se freq a jati"
      ],
      "execution_count": 145,
      "outputs": [
        {
          "output_type": "execute_result",
          "data": {
            "text/html": [
              "<div>\n",
              "<style scoped>\n",
              "    .dataframe tbody tr th:only-of-type {\n",
              "        vertical-align: middle;\n",
              "    }\n",
              "\n",
              "    .dataframe tbody tr th {\n",
              "        vertical-align: top;\n",
              "    }\n",
              "\n",
              "    .dataframe thead th {\n",
              "        text-align: right;\n",
              "    }\n",
              "</style>\n",
              "<table border=\"1\" class=\"dataframe\">\n",
              "  <thead>\n",
              "    <tr style=\"text-align: right;\">\n",
              "      <th></th>\n",
              "      <th>ApplicantIncome</th>\n",
              "      <th>CoapplicantIncome</th>\n",
              "      <th>LoanAmount</th>\n",
              "      <th>Loan_Amount_Term</th>\n",
              "      <th>Credit_History</th>\n",
              "    </tr>\n",
              "    <tr>\n",
              "      <th>Education</th>\n",
              "      <th></th>\n",
              "      <th></th>\n",
              "      <th></th>\n",
              "      <th></th>\n",
              "      <th></th>\n",
              "    </tr>\n",
              "  </thead>\n",
              "  <tbody>\n",
              "    <tr>\n",
              "      <th>Graduate</th>\n",
              "      <td>4000.0</td>\n",
              "      <td>1059.0</td>\n",
              "      <td>130.0</td>\n",
              "      <td>360.0</td>\n",
              "      <td>1.0</td>\n",
              "    </tr>\n",
              "    <tr>\n",
              "      <th>Not Graduate</th>\n",
              "      <td>3357.5</td>\n",
              "      <td>1356.5</td>\n",
              "      <td>113.0</td>\n",
              "      <td>360.0</td>\n",
              "      <td>1.0</td>\n",
              "    </tr>\n",
              "  </tbody>\n",
              "</table>\n",
              "</div>"
            ],
            "text/plain": [
              "              ApplicantIncome  ...  Credit_History\n",
              "Education                      ...                \n",
              "Graduate               4000.0  ...             1.0\n",
              "Not Graduate           3357.5  ...             1.0\n",
              "\n",
              "[2 rows x 5 columns]"
            ]
          },
          "metadata": {
            "tags": []
          },
          "execution_count": 145
        }
      ]
    },
    {
      "cell_type": "markdown",
      "metadata": {
        "id": "mLiawqssE1Cl",
        "colab_type": "text"
      },
      "source": [
        "We can see that there is no substantial difference between the median income of graduate and non-graduates(that of graduates being substatianally higher). But there are a higher number of graduates with very high incomes, which are appearing to be the outliers."
      ]
    },
    {
      "cell_type": "code",
      "metadata": {
        "id": "9MDLB_v5Di79",
        "colab_type": "code",
        "outputId": "7df49ed9-a567-467b-fcb9-41ba42d3e1f4",
        "colab": {
          "base_uri": "https://localhost:8080/",
          "height": 301
        }
      },
      "source": [
        "LAP.boxplot(column='ApplicantIncome', by = ['Gender']);"
      ],
      "execution_count": 146,
      "outputs": [
        {
          "output_type": "display_data",
          "data": {
            "image/png": "[encoded data removed]",
            "text/plain": [
              "<Figure size 432x288 with 1 Axes>"
            ]
          },
          "metadata": {
            "tags": []
          }
        }
      ]
    },
    {
      "cell_type": "code",
      "metadata": {
        "id": "wIxPrRibd23b",
        "colab_type": "code",
        "outputId": "24b3ac7d-9b8d-4a78-a2f6-1ab5eea0e0ba",
        "colab": {
          "base_uri": "https://localhost:8080/",
          "height": 138
        }
      },
      "source": [
        "LAP.groupby(['Gender']).median()"
      ],
      "execution_count": 147,
      "outputs": [
        {
          "output_type": "execute_result",
          "data": {
            "text/html": [
              "<div>\n",
              "<style scoped>\n",
              "    .dataframe tbody tr th:only-of-type {\n",
              "        vertical-align: middle;\n",
              "    }\n",
              "\n",
              "    .dataframe tbody tr th {\n",
              "        vertical-align: top;\n",
              "    }\n",
              "\n",
              "    .dataframe thead th {\n",
              "        text-align: right;\n",
              "    }\n",
              "</style>\n",
              "<table border=\"1\" class=\"dataframe\">\n",
              "  <thead>\n",
              "    <tr style=\"text-align: right;\">\n",
              "      <th></th>\n",
              "      <th>ApplicantIncome</th>\n",
              "      <th>CoapplicantIncome</th>\n",
              "      <th>LoanAmount</th>\n",
              "      <th>Loan_Amount_Term</th>\n",
              "      <th>Credit_History</th>\n",
              "    </tr>\n",
              "    <tr>\n",
              "      <th>Gender</th>\n",
              "      <th></th>\n",
              "      <th></th>\n",
              "      <th></th>\n",
              "      <th></th>\n",
              "      <th></th>\n",
              "    </tr>\n",
              "  </thead>\n",
              "  <tbody>\n",
              "    <tr>\n",
              "      <th>Female</th>\n",
              "      <td>3583</td>\n",
              "      <td>0.0</td>\n",
              "      <td>113.0</td>\n",
              "      <td>360.0</td>\n",
              "      <td>1.0</td>\n",
              "    </tr>\n",
              "    <tr>\n",
              "      <th>Male</th>\n",
              "      <td>3862</td>\n",
              "      <td>1438.5</td>\n",
              "      <td>130.0</td>\n",
              "      <td>360.0</td>\n",
              "      <td>1.0</td>\n",
              "    </tr>\n",
              "  </tbody>\n",
              "</table>\n",
              "</div>"
            ],
            "text/plain": [
              "        ApplicantIncome  CoapplicantIncome  ...  Loan_Amount_Term  Credit_History\n",
              "Gender                                      ...                                  \n",
              "Female             3583                0.0  ...             360.0             1.0\n",
              "Male               3862             1438.5  ...             360.0             1.0\n",
              "\n",
              "[2 rows x 5 columns]"
            ]
          },
          "metadata": {
            "tags": []
          },
          "execution_count": 147
        }
      ]
    },
    {
      "cell_type": "markdown",
      "metadata": {
        "id": "IYxO6HGoGp5r",
        "colab_type": "text"
      },
      "source": [
        "There are a higher number of males with very high incomes, which are appearing to be the outliers. Median of male income is marginally higher than the female."
      ]
    },
    {
      "cell_type": "markdown",
      "metadata": {
        "id": "y2muQx7IXzHu",
        "colab_type": "text"
      },
      "source": [
        "While looking at the distributions, we saw that ApplicantIncome and LoanAmount seemed to contain extreme values at either end. Though they might make intuitive sense, but should be treated appropriately."
      ]
    },
    {
      "cell_type": "markdown",
      "metadata": {
        "id": "KT5trER9tkaw",
        "colab_type": "text"
      },
      "source": [
        "How to treat for extreme values in distribution of LoanAmount and ApplicantIncome?\n",
        "Let's analyze LoanAmount first. Since the extreme values are practically possible, i.e. some people might apply for high value loans due to specific needs. So instead of treating them as outliers, let's try a log transformation to nullify their effect:"
      ]
    },
    {
      "cell_type": "code",
      "metadata": {
        "id": "-G3TTKuEtmjI",
        "colab_type": "code",
        "colab": {}
      },
      "source": [
        "LAP['LoanAmount_log']=np.log(LAP['LoanAmount'])"
      ],
      "execution_count": 0,
      "outputs": []
    },
    {
      "cell_type": "code",
      "metadata": {
        "id": "xE6HHECot_uS",
        "colab_type": "code",
        "outputId": "6eadc75a-83c4-44ea-fa18-c2685c5fed9d",
        "colab": {
          "base_uri": "https://localhost:8080/",
          "height": 269
        }
      },
      "source": [
        "LAP['LoanAmount_log'].hist(bins=20);"
      ],
      "execution_count": 149,
      "outputs": [
        {
          "output_type": "display_data",
          "data": {
            "image/png": "[encoded data removed]",
            "text/plain": [
              "<Figure size 432x288 with 1 Axes>"
            ]
          },
          "metadata": {
            "tags": []
          }
        }
      ]
    },
    {
      "cell_type": "code",
      "metadata": {
        "id": "26qtfYJ9mbfM",
        "colab_type": "code",
        "colab": {}
      },
      "source": [
        "# sns.distplot(LAP['LoanAmount_log'],bins=20,kde=False);"
      ],
      "execution_count": 0,
      "outputs": []
    },
    {
      "cell_type": "code",
      "metadata": {
        "id": "o7tQcjMBusg6",
        "colab_type": "code",
        "outputId": "6a766e55-00bc-4623-b627-a42651a28931",
        "colab": {
          "base_uri": "https://localhost:8080/",
          "height": 270
        }
      },
      "source": [
        "LAP.boxplot(column='LoanAmount_log'); #semicoln in end to avoid the text output"
      ],
      "execution_count": 151,
      "outputs": [
        {
          "output_type": "display_data",
          "data": {
            "image/png": "[encoded data removed]",
            "text/plain": [
              "<Figure size 432x288 with 1 Axes>"
            ]
          },
          "metadata": {
            "tags": []
          }
        }
      ]
    },
    {
      "cell_type": "markdown",
      "metadata": {
        "id": "7GHU5qhOuiRR",
        "colab_type": "text"
      },
      "source": [
        "Coming to ApplicantIncome. One intuition can be that some applicants have lower income but strong support Co-applicants. So it might be a good idea to combine both incomes as total income and take a log transformation of the same."
      ]
    },
    {
      "cell_type": "code",
      "metadata": {
        "id": "wOGO6G22u3Ui",
        "colab_type": "code",
        "outputId": "1b18f414-b1dd-4314-d88a-e0dc3c17d708",
        "colab": {
          "base_uri": "https://localhost:8080/",
          "height": 269
        }
      },
      "source": [
        "LAP['TotalIncome']=LAP['ApplicantIncome']+LAP['CoapplicantIncome']\n",
        "LAP['TotalIncome_log']=np.log(LAP['TotalIncome'])\n",
        "LAP['TotalIncome_log'].hist(bins=20);"
      ],
      "execution_count": 152,
      "outputs": [
        {
          "output_type": "display_data",
          "data": {
            "image/png": "[encoded data removed]",
            "text/plain": [
              "<Figure size 432x288 with 1 Axes>"
            ]
          },
          "metadata": {
            "tags": []
          }
        }
      ]
    },
    {
      "cell_type": "code",
      "metadata": {
        "id": "HK_kDB3Ev-qe",
        "colab_type": "code",
        "outputId": "7d6a4a16-c470-4ec1-bfec-1dc7b98b8c5b",
        "colab": {
          "base_uri": "https://localhost:8080/",
          "height": 270
        }
      },
      "source": [
        "LAP.boxplot(column='TotalIncome_log');"
      ],
      "execution_count": 153,
      "outputs": [
        {
          "output_type": "display_data",
          "data": {
            "image/png": "[encoded data removed]",
            "text/plain": [
              "<Figure size 432x288 with 1 Axes>"
            ]
          },
          "metadata": {
            "tags": []
          }
        }
      ]
    },
    {
      "cell_type": "markdown",
      "metadata": {
        "id": "JVm1DPt0wuP0",
        "colab_type": "text"
      },
      "source": [
        "\n",
        "Now we create a column for LoanAmount/TotalIncome might make sense as it gives an idea of how well the applicant is suited to pay back his loan.\n"
      ]
    },
    {
      "cell_type": "code",
      "metadata": {
        "id": "WgzmMZ_3wrYe",
        "colab_type": "code",
        "colab": {}
      },
      "source": [
        "LAP['CreditWorthiness']=LAP['LoanAmount']/LAP['TotalIncome']"
      ],
      "execution_count": 0,
      "outputs": []
    },
    {
      "cell_type": "markdown",
      "metadata": {
        "id": "nPdCYz_2hiff",
        "colab_type": "text"
      },
      "source": [
        "Now we see the r/s b/w creadit history and loan status"
      ]
    },
    {
      "cell_type": "code",
      "metadata": {
        "id": "c-sHQO74GgCb",
        "colab_type": "code",
        "colab": {}
      },
      "source": [
        "temp1=LAP['Credit_History'].value_counts(ascending=True)"
      ],
      "execution_count": 0,
      "outputs": []
    },
    {
      "cell_type": "code",
      "metadata": {
        "id": "xpjhWc-xgGDw",
        "colab_type": "code",
        "outputId": "72984590-0aa6-4fad-f684-7f1e5a7949ca",
        "colab": {
          "base_uri": "https://localhost:8080/",
          "height": 108
        }
      },
      "source": [
        "LAP.columns"
      ],
      "execution_count": 156,
      "outputs": [
        {
          "output_type": "execute_result",
          "data": {
            "text/plain": [
              "Index(['Loan_ID', 'Gender', 'Married', 'Dependents', 'Education',\n",
              "       'Self_Employed', 'ApplicantIncome', 'CoapplicantIncome', 'LoanAmount',\n",
              "       'Loan_Amount_Term', 'Credit_History', 'Property_Area', 'Loan_Status',\n",
              "       'LoanAmount_log', 'TotalIncome', 'TotalIncome_log', 'CreditWorthiness'],\n",
              "      dtype='object')"
            ]
          },
          "metadata": {
            "tags": []
          },
          "execution_count": 156
        }
      ]
    },
    {
      "cell_type": "code",
      "metadata": {
        "id": "WvlLJrD1hLUJ",
        "colab_type": "code",
        "outputId": "ab2bd1d4-15b4-4685-bc43-6fe2f977ca1d",
        "colab": {
          "base_uri": "https://localhost:8080/",
          "height": 90
        }
      },
      "source": [
        "temp2=LAP.pivot_table(values='Loan_Status', index= 'Credit_History', aggfunc= lambda x: x.map({'Y':1,'N':0}).mean())\n",
        "print(temp2)"
      ],
      "execution_count": 157,
      "outputs": [
        {
          "output_type": "stream",
          "text": [
            "                Loan_Status\n",
            "Credit_History             \n",
            "0.0                0.078652\n",
            "1.0                0.790476\n"
          ],
          "name": "stdout"
        }
      ]
    },
    {
      "cell_type": "code",
      "metadata": {
        "id": "QI70ePQWq9vC",
        "colab_type": "code",
        "outputId": "76d7c0a0-cd41-4f21-ba5b-d654949114a6",
        "colab": {
          "base_uri": "https://localhost:8080/",
          "height": 598
        }
      },
      "source": [
        "fig1=plt.figure(1,(8,4)).add_subplot(121)\n",
        "fig1.set_xlabel('Credit_History')\n",
        "fig1.set_ylabel('Count of Applications')\n",
        "fig1.set_title('Applicatants by Credit_History')\n",
        "temp1.plot('bar',figsize=(8,4),title='Applicatants of Credit_History')\n",
        "temp2.plot(kind='bar', figsize=(3.75,4.2),title='Probability of getting loan by credit history', legend=False)\n",
        "plt.xlabel('Credit_History')\n",
        "plt.ylabel('Probability of getting loan');"
      ],
      "execution_count": 158,
      "outputs": [
        {
          "output_type": "display_data",
          "data": {
            "image/png": "[encoded data removed]",
            "text/plain": [
              "<Figure size 576x288 with 1 Axes>"
            ]
          },
          "metadata": {
            "tags": []
          }
        },
        {
          "output_type": "display_data",
          "data": {
            "image/png": "[encoded data removed]",
            "text/plain": [
              "<Figure size 270x302.4 with 1 Axes>"
            ]
          },
          "metadata": {
            "tags": []
          }
        }
      ]
    },
    {
      "cell_type": "code",
      "metadata": {
        "id": "kwHsYfrCmFiw",
        "colab_type": "code",
        "outputId": "1a5221d0-aa96-43ae-b564-fc38100c26e8",
        "colab": {
          "base_uri": "https://localhost:8080/",
          "height": 290
        }
      },
      "source": [
        "temp3=pd.crosstab(LAP['Credit_History'],LAP['Loan_Status'])\n",
        "temp3.plot(kind='bar', stacked=True);"
      ],
      "execution_count": 159,
      "outputs": [
        {
          "output_type": "display_data",
          "data": {
            "image/png": "[encoded data removed]",
            "text/plain": [
              "<Figure size 432x288 with 1 Axes>"
            ]
          },
          "metadata": {
            "tags": []
          }
        }
      ]
    },
    {
      "cell_type": "code",
      "metadata": {
        "id": "NVBHiDaAr8Rs",
        "colab_type": "code",
        "outputId": "54f9cb11-2840-45cc-99e1-535c638f3201",
        "colab": {
          "base_uri": "https://localhost:8080/",
          "height": 90
        }
      },
      "source": [
        "print(temp3)"
      ],
      "execution_count": 160,
      "outputs": [
        {
          "output_type": "stream",
          "text": [
            "Loan_Status       N    Y\n",
            "Credit_History          \n",
            "0.0              82    7\n",
            "1.0             110  415\n"
          ],
          "name": "stdout"
        }
      ]
    },
    {
      "cell_type": "code",
      "metadata": {
        "id": "AhFzQS8IsB7c",
        "colab_type": "code",
        "outputId": "70962be8-1982-465d-863b-f2004e6f4bf0",
        "colab": {
          "base_uri": "https://localhost:8080/",
          "height": 138
        }
      },
      "source": [
        "LAP.pivot_table(index='Credit_History',columns='Loan_Status',values='ApplicantIncome',aggfunc=np.size) #anotherway for crosstab, values m koi bi colm nam dalo(taki ek hi colm aye rather than sare) cuz agg fn is independent of values of colmn mentioned in values"
      ],
      "execution_count": 161,
      "outputs": [
        {
          "output_type": "execute_result",
          "data": {
            "text/html": [
              "<div>\n",
              "<style scoped>\n",
              "    .dataframe tbody tr th:only-of-type {\n",
              "        vertical-align: middle;\n",
              "    }\n",
              "\n",
              "    .dataframe tbody tr th {\n",
              "        vertical-align: top;\n",
              "    }\n",
              "\n",
              "    .dataframe thead th {\n",
              "        text-align: right;\n",
              "    }\n",
              "</style>\n",
              "<table border=\"1\" class=\"dataframe\">\n",
              "  <thead>\n",
              "    <tr style=\"text-align: right;\">\n",
              "      <th>Loan_Status</th>\n",
              "      <th>N</th>\n",
              "      <th>Y</th>\n",
              "    </tr>\n",
              "    <tr>\n",
              "      <th>Credit_History</th>\n",
              "      <th></th>\n",
              "      <th></th>\n",
              "    </tr>\n",
              "  </thead>\n",
              "  <tbody>\n",
              "    <tr>\n",
              "      <th>0.0</th>\n",
              "      <td>82</td>\n",
              "      <td>7</td>\n",
              "    </tr>\n",
              "    <tr>\n",
              "      <th>1.0</th>\n",
              "      <td>110</td>\n",
              "      <td>415</td>\n",
              "    </tr>\n",
              "  </tbody>\n",
              "</table>\n",
              "</div>"
            ],
            "text/plain": [
              "Loan_Status       N    Y\n",
              "Credit_History          \n",
              "0.0              82    7\n",
              "1.0             110  415"
            ]
          },
          "metadata": {
            "tags": []
          },
          "execution_count": 161
        }
      ]
    },
    {
      "cell_type": "code",
      "metadata": {
        "id": "XLwNCzp0t1ef",
        "colab_type": "code",
        "outputId": "90007195-b12b-4f41-9901-bca7b675b6e7",
        "colab": {
          "base_uri": "https://localhost:8080/",
          "height": 126
        }
      },
      "source": [
        "LAP.groupby(['Credit_History','Loan_Status']).size()#anotherway for crosstab, different format"
      ],
      "execution_count": 162,
      "outputs": [
        {
          "output_type": "execute_result",
          "data": {
            "text/plain": [
              "Credit_History  Loan_Status\n",
              "0.0             N               82\n",
              "                Y                7\n",
              "1.0             N              110\n",
              "                Y              415\n",
              "dtype: int64"
            ]
          },
          "metadata": {
            "tags": []
          },
          "execution_count": 162
        }
      ]
    },
    {
      "cell_type": "markdown",
      "metadata": {
        "id": "nJ4Mwyi2kfs9",
        "colab_type": "text"
      },
      "source": [
        "80% loans are approved if they have credit history v/s only 8% for no credit history."
      ]
    },
    {
      "cell_type": "code",
      "metadata": {
        "id": "OQobyyM8ijt6",
        "colab_type": "code",
        "colab": {}
      },
      "source": [
        "# fig = plt.figure(figsize=(8,4)) \n",
        "# ax1 = fig.add_subplot(121) \n",
        "# ax1.set_xlabel('Credit_History') \n",
        "# ax1.set_ylabel('Count of Applicants') \n",
        "# ax1.set_title(\"Applicants by Credit_History\") \n",
        "# temp1.plot(kind='bar') \n",
        "# ax2 = fig.add_subplot(122)  \n",
        "# ax2.set_xlabel('Credit_History') \n",
        "# ax2.set_ylabel('Probability of getting loan') \n",
        "# ax2.set_title(\"Probability of getting loan by credit history\")\n",
        "# temp2.plot(kind = 'bar');"
      ],
      "execution_count": 0,
      "outputs": []
    },
    {
      "cell_type": "markdown",
      "metadata": {
        "id": "9lxXWhAfjUCz",
        "colab_type": "text"
      },
      "source": [
        "To see if gender affects loan status"
      ]
    },
    {
      "cell_type": "code",
      "metadata": {
        "id": "2EcAVHEIlWXw",
        "colab_type": "code",
        "outputId": "bdad5e7a-0b77-442d-8e90-81b0311b496e",
        "colab": {
          "base_uri": "https://localhost:8080/",
          "height": 507
        }
      },
      "source": [
        "temp4=pd.crosstab(LAP['Credit_History'], columns=[LAP['Loan_Status'],LAP['Gender']]) \n",
        "temp4.plot(kind='bar', stacked=True, figsize=(4,8));\n"
      ],
      "execution_count": 164,
      "outputs": [
        {
          "output_type": "display_data",
          "data": {
            "image/png": "[encoded data removed]",
            "text/plain": [
              "<Figure size 288x576 with 1 Axes>"
            ]
          },
          "metadata": {
            "tags": []
          }
        }
      ]
    },
    {
      "cell_type": "code",
      "metadata": {
        "id": "z9wC4Bp2dmgN",
        "colab_type": "code",
        "outputId": "19ce648b-aa72-4930-d80b-afcd19683a62",
        "colab": {
          "base_uri": "https://localhost:8080/",
          "height": 108
        }
      },
      "source": [
        "print(temp4)"
      ],
      "execution_count": 165,
      "outputs": [
        {
          "output_type": "stream",
          "text": [
            "Loan_Status         N           Y     \n",
            "Gender         Female Male Female Male\n",
            "Credit_History                        \n",
            "0.0                16   66      1    6\n",
            "1.0                21   89     74  341\n"
          ],
          "name": "stdout"
        }
      ]
    },
    {
      "cell_type": "markdown",
      "metadata": {
        "id": "LkCy9_P3KRTk",
        "colab_type": "text"
      },
      "source": [
        "I feel the above graph is more useful, because its more consise and is more comparable. It says that, for people with as well as without a credit history,odds of being approved and rejected for male is more. (untrue, see below graph)(ie cuz, male are more in number). Among people without a credit history, odds are in favor of being rejected as a female vs being accepted, and odds are in favor of rejected as a male.(ie cuz ppl without credit history are more rejected than accepted) Among people with a credit history, odds are in favor of being accepted as a female vs being rejected, and odds are in favor of accepted as a male.(if we wat to see that if female in gen are rej more or not to upar wali ka comparison niche wale grph se kro, or 2nd comparirison is useless uskelie bina gender wale graph se kro)  therefore the below graph is better. this one can give wrong conclusions"
      ]
    },
    {
      "cell_type": "code",
      "metadata": {
        "id": "p9D8uT2chrVE",
        "colab_type": "code",
        "outputId": "132b62ef-0f06-4021-a20a-cc0dee7076d4",
        "colab": {
          "base_uri": "https://localhost:8080/",
          "height": 340
        }
      },
      "source": [
        "temp5=pd.crosstab([LAP['Credit_History'],LAP['Gender']], columns=LAP['Loan_Status']) \n",
        "temp5.plot(kind='bar', stacked=True);"
      ],
      "execution_count": 166,
      "outputs": [
        {
          "output_type": "display_data",
          "data": {
            "image/png": "[encoded data removed]",
            "text/plain": [
              "<Figure size 432x288 with 1 Axes>"
            ]
          },
          "metadata": {
            "tags": []
          }
        }
      ]
    },
    {
      "cell_type": "code",
      "metadata": {
        "id": "zWdU18Kq1Lqq",
        "colab_type": "code",
        "colab": {}
      },
      "source": [
        "# l=LAP.copy()"
      ],
      "execution_count": 0,
      "outputs": []
    },
    {
      "cell_type": "code",
      "metadata": {
        "id": "0tMeRsWJ2iBb",
        "colab_type": "code",
        "colab": {}
      },
      "source": [
        "# LAP.drop_duplicates(subset=['Credit_History'])#doesnt change the original df but returns a copy"
      ],
      "execution_count": 0,
      "outputs": []
    },
    {
      "cell_type": "code",
      "metadata": {
        "id": "AY4gni-b3Kyc",
        "colab_type": "code",
        "colab": {}
      },
      "source": [
        "# from random import sample \n",
        "# index=sample(range(len(LAP)),5)#gives a different sample everytime this code is run\n",
        "# sample=LAP.ix[index]\n",
        "# print(sample)"
      ],
      "execution_count": 0,
      "outputs": []
    },
    {
      "cell_type": "code",
      "metadata": {
        "id": "Q04V5ACQFxH8",
        "colab_type": "code",
        "colab": {}
      },
      "source": [
        "def check_nan(df):\n",
        "  for col in df.columns:\n",
        "    if df[col].isnull().values.any():\n",
        "      print(\"%s has missing %d missing values\"%(col,df[col].isnull().values.sum() ))"
      ],
      "execution_count": 0,
      "outputs": []
    },
    {
      "cell_type": "code",
      "metadata": {
        "id": "WG35NJpL4y_E",
        "colab_type": "code",
        "colab": {}
      },
      "source": [
        "check_nan(LAP)"
      ],
      "execution_count": 0,
      "outputs": []
    },
    {
      "cell_type": "code",
      "metadata": {
        "id": "y6lEubOk43Bz",
        "colab_type": "code",
        "outputId": "797f8bdc-9917-4b31-8d4e-cb59d37943b8",
        "colab": {
          "base_uri": "https://localhost:8080/",
          "height": 35
        }
      },
      "source": [
        "len(LAP)"
      ],
      "execution_count": 172,
      "outputs": [
        {
          "output_type": "execute_result",
          "data": {
            "text/plain": [
              "614"
            ]
          },
          "metadata": {
            "tags": []
          },
          "execution_count": 172
        }
      ]
    },
    {
      "cell_type": "code",
      "metadata": {
        "id": "M1iAreW546VK",
        "colab_type": "code",
        "outputId": "55d035e6-e8ef-474a-b624-5343043f01d6",
        "colab": {
          "base_uri": "https://localhost:8080/",
          "height": 235
        }
      },
      "source": [
        "LAP.head()"
      ],
      "execution_count": 173,
      "outputs": [
        {
          "output_type": "execute_result",
          "data": {
            "text/html": [
              "<div>\n",
              "<style scoped>\n",
              "    .dataframe tbody tr th:only-of-type {\n",
              "        vertical-align: middle;\n",
              "    }\n",
              "\n",
              "    .dataframe tbody tr th {\n",
              "        vertical-align: top;\n",
              "    }\n",
              "\n",
              "    .dataframe thead th {\n",
              "        text-align: right;\n",
              "    }\n",
              "</style>\n",
              "<table border=\"1\" class=\"dataframe\">\n",
              "  <thead>\n",
              "    <tr style=\"text-align: right;\">\n",
              "      <th></th>\n",
              "      <th>Loan_ID</th>\n",
              "      <th>Gender</th>\n",
              "      <th>Married</th>\n",
              "      <th>Dependents</th>\n",
              "      <th>Education</th>\n",
              "      <th>Self_Employed</th>\n",
              "      <th>ApplicantIncome</th>\n",
              "      <th>CoapplicantIncome</th>\n",
              "      <th>LoanAmount</th>\n",
              "      <th>Loan_Amount_Term</th>\n",
              "      <th>Credit_History</th>\n",
              "      <th>Property_Area</th>\n",
              "      <th>Loan_Status</th>\n",
              "      <th>LoanAmount_log</th>\n",
              "      <th>TotalIncome</th>\n",
              "      <th>TotalIncome_log</th>\n",
              "      <th>CreditWorthiness</th>\n",
              "    </tr>\n",
              "  </thead>\n",
              "  <tbody>\n",
              "    <tr>\n",
              "      <th>0</th>\n",
              "      <td>LP001002</td>\n",
              "      <td>Male</td>\n",
              "      <td>No</td>\n",
              "      <td>0</td>\n",
              "      <td>Graduate</td>\n",
              "      <td>No</td>\n",
              "      <td>5849</td>\n",
              "      <td>0.0</td>\n",
              "      <td>130.0</td>\n",
              "      <td>360.0</td>\n",
              "      <td>1.0</td>\n",
              "      <td>Urban</td>\n",
              "      <td>Y</td>\n",
              "      <td>4.867534</td>\n",
              "      <td>5849.0</td>\n",
              "      <td>8.674026</td>\n",
              "      <td>0.022226</td>\n",
              "    </tr>\n",
              "    <tr>\n",
              "      <th>1</th>\n",
              "      <td>LP001003</td>\n",
              "      <td>Male</td>\n",
              "      <td>Yes</td>\n",
              "      <td>1</td>\n",
              "      <td>Graduate</td>\n",
              "      <td>No</td>\n",
              "      <td>4583</td>\n",
              "      <td>1508.0</td>\n",
              "      <td>128.0</td>\n",
              "      <td>360.0</td>\n",
              "      <td>1.0</td>\n",
              "      <td>Rural</td>\n",
              "      <td>N</td>\n",
              "      <td>4.852030</td>\n",
              "      <td>6091.0</td>\n",
              "      <td>8.714568</td>\n",
              "      <td>0.021015</td>\n",
              "    </tr>\n",
              "    <tr>\n",
              "      <th>2</th>\n",
              "      <td>LP001005</td>\n",
              "      <td>Male</td>\n",
              "      <td>Yes</td>\n",
              "      <td>0</td>\n",
              "      <td>Graduate</td>\n",
              "      <td>Yes</td>\n",
              "      <td>3000</td>\n",
              "      <td>0.0</td>\n",
              "      <td>66.0</td>\n",
              "      <td>360.0</td>\n",
              "      <td>1.0</td>\n",
              "      <td>Urban</td>\n",
              "      <td>Y</td>\n",
              "      <td>4.189655</td>\n",
              "      <td>3000.0</td>\n",
              "      <td>8.006368</td>\n",
              "      <td>0.022000</td>\n",
              "    </tr>\n",
              "    <tr>\n",
              "      <th>3</th>\n",
              "      <td>LP001006</td>\n",
              "      <td>Male</td>\n",
              "      <td>Yes</td>\n",
              "      <td>0</td>\n",
              "      <td>Not Graduate</td>\n",
              "      <td>No</td>\n",
              "      <td>2583</td>\n",
              "      <td>2358.0</td>\n",
              "      <td>120.0</td>\n",
              "      <td>360.0</td>\n",
              "      <td>1.0</td>\n",
              "      <td>Urban</td>\n",
              "      <td>Y</td>\n",
              "      <td>4.787492</td>\n",
              "      <td>4941.0</td>\n",
              "      <td>8.505323</td>\n",
              "      <td>0.024287</td>\n",
              "    </tr>\n",
              "    <tr>\n",
              "      <th>4</th>\n",
              "      <td>LP001008</td>\n",
              "      <td>Male</td>\n",
              "      <td>No</td>\n",
              "      <td>0</td>\n",
              "      <td>Graduate</td>\n",
              "      <td>No</td>\n",
              "      <td>6000</td>\n",
              "      <td>0.0</td>\n",
              "      <td>141.0</td>\n",
              "      <td>360.0</td>\n",
              "      <td>1.0</td>\n",
              "      <td>Urban</td>\n",
              "      <td>Y</td>\n",
              "      <td>4.948760</td>\n",
              "      <td>6000.0</td>\n",
              "      <td>8.699515</td>\n",
              "      <td>0.023500</td>\n",
              "    </tr>\n",
              "  </tbody>\n",
              "</table>\n",
              "</div>"
            ],
            "text/plain": [
              "    Loan_ID Gender Married  ... TotalIncome TotalIncome_log CreditWorthiness\n",
              "0  LP001002   Male      No  ...      5849.0        8.674026         0.022226\n",
              "1  LP001003   Male     Yes  ...      6091.0        8.714568         0.021015\n",
              "2  LP001005   Male     Yes  ...      3000.0        8.006368         0.022000\n",
              "3  LP001006   Male     Yes  ...      4941.0        8.505323         0.024287\n",
              "4  LP001008   Male      No  ...      6000.0        8.699515         0.023500\n",
              "\n",
              "[5 rows x 17 columns]"
            ]
          },
          "metadata": {
            "tags": []
          },
          "execution_count": 173
        }
      ]
    },
    {
      "cell_type": "code",
      "metadata": {
        "id": "XSQc_24S5S7Y",
        "colab_type": "code",
        "outputId": "9ee1d199-5a61-42ea-c7ed-9b095b58763d",
        "colab": {
          "base_uri": "https://localhost:8080/",
          "height": 35
        }
      },
      "source": [
        "print(LAP.shape)"
      ],
      "execution_count": 174,
      "outputs": [
        {
          "output_type": "stream",
          "text": [
            "(614, 17)\n"
          ],
          "name": "stdout"
        }
      ]
    },
    {
      "cell_type": "markdown",
      "metadata": {
        "id": "mUZdD8XI5bBb",
        "colab_type": "text"
      },
      "source": [
        "# Preparing the data for launch"
      ]
    },
    {
      "cell_type": "code",
      "metadata": {
        "id": "KPL4QlyB5ZXT",
        "colab_type": "code",
        "colab": {}
      },
      "source": [
        "#Getting rid of unuseful columns\n",
        "temp = LAP.drop(['Loan_ID'], axis=1) # Loan ID is not a feature hat affects Loan Approval. Only useful during submission."
      ],
      "execution_count": 0,
      "outputs": []
    },
    {
      "cell_type": "code",
      "metadata": {
        "id": "5nppm7J7NHtp",
        "colab_type": "code",
        "outputId": "004acdb3-8658-487e-edb7-dd7c128188d3",
        "colab": {
          "base_uri": "https://localhost:8080/",
          "height": 128
        }
      },
      "source": [
        "# Rearranging the columns making the labels as the last column\n",
        "# Caution : One time Run, otherwise it may mess up the \n",
        "col =list(temp.columns.values)\n",
        "col = col[:11] + col[12:] +col[11:12]\n",
        "df= temp[col]\n",
        "df.head(2)"
      ],
      "execution_count": 176,
      "outputs": [
        {
          "output_type": "execute_result",
          "data": {
            "text/html": [
              "<div>\n",
              "<style scoped>\n",
              "    .dataframe tbody tr th:only-of-type {\n",
              "        vertical-align: middle;\n",
              "    }\n",
              "\n",
              "    .dataframe tbody tr th {\n",
              "        vertical-align: top;\n",
              "    }\n",
              "\n",
              "    .dataframe thead th {\n",
              "        text-align: right;\n",
              "    }\n",
              "</style>\n",
              "<table border=\"1\" class=\"dataframe\">\n",
              "  <thead>\n",
              "    <tr style=\"text-align: right;\">\n",
              "      <th></th>\n",
              "      <th>Gender</th>\n",
              "      <th>Married</th>\n",
              "      <th>Dependents</th>\n",
              "      <th>Education</th>\n",
              "      <th>Self_Employed</th>\n",
              "      <th>ApplicantIncome</th>\n",
              "      <th>CoapplicantIncome</th>\n",
              "      <th>LoanAmount</th>\n",
              "      <th>Loan_Amount_Term</th>\n",
              "      <th>Credit_History</th>\n",
              "      <th>Property_Area</th>\n",
              "      <th>LoanAmount_log</th>\n",
              "      <th>TotalIncome</th>\n",
              "      <th>TotalIncome_log</th>\n",
              "      <th>CreditWorthiness</th>\n",
              "      <th>Loan_Status</th>\n",
              "    </tr>\n",
              "  </thead>\n",
              "  <tbody>\n",
              "    <tr>\n",
              "      <th>0</th>\n",
              "      <td>Male</td>\n",
              "      <td>No</td>\n",
              "      <td>0</td>\n",
              "      <td>Graduate</td>\n",
              "      <td>No</td>\n",
              "      <td>5849</td>\n",
              "      <td>0.0</td>\n",
              "      <td>130.0</td>\n",
              "      <td>360.0</td>\n",
              "      <td>1.0</td>\n",
              "      <td>Urban</td>\n",
              "      <td>4.867534</td>\n",
              "      <td>5849.0</td>\n",
              "      <td>8.674026</td>\n",
              "      <td>0.022226</td>\n",
              "      <td>Y</td>\n",
              "    </tr>\n",
              "    <tr>\n",
              "      <th>1</th>\n",
              "      <td>Male</td>\n",
              "      <td>Yes</td>\n",
              "      <td>1</td>\n",
              "      <td>Graduate</td>\n",
              "      <td>No</td>\n",
              "      <td>4583</td>\n",
              "      <td>1508.0</td>\n",
              "      <td>128.0</td>\n",
              "      <td>360.0</td>\n",
              "      <td>1.0</td>\n",
              "      <td>Rural</td>\n",
              "      <td>4.852030</td>\n",
              "      <td>6091.0</td>\n",
              "      <td>8.714568</td>\n",
              "      <td>0.021015</td>\n",
              "      <td>N</td>\n",
              "    </tr>\n",
              "  </tbody>\n",
              "</table>\n",
              "</div>"
            ],
            "text/plain": [
              "  Gender Married Dependents  ... TotalIncome_log CreditWorthiness  Loan_Status\n",
              "0   Male      No          0  ...        8.674026         0.022226            Y\n",
              "1   Male     Yes          1  ...        8.714568         0.021015            N\n",
              "\n",
              "[2 rows x 16 columns]"
            ]
          },
          "metadata": {
            "tags": []
          },
          "execution_count": 176
        }
      ]
    },
    {
      "cell_type": "code",
      "metadata": {
        "id": "h8PIWUMs-68I",
        "colab_type": "code",
        "outputId": "1abf22dc-ec4e-439e-8b65-adbeafcc85bc",
        "colab": {
          "base_uri": "https://localhost:8080/",
          "height": 108
        }
      },
      "source": [
        "df.Dependents.value_counts()\n",
        "# dependents has a value '3+' which is not a number"
      ],
      "execution_count": 177,
      "outputs": [
        {
          "output_type": "execute_result",
          "data": {
            "text/plain": [
              "0     360\n",
              "1     102\n",
              "2     101\n",
              "3+     51\n",
              "Name: Dependents, dtype: int64"
            ]
          },
          "metadata": {
            "tags": []
          },
          "execution_count": 177
        }
      ]
    },
    {
      "cell_type": "code",
      "metadata": {
        "id": "iWzojFjU--zJ",
        "colab_type": "code",
        "colab": {}
      },
      "source": [
        "# Converting the Dependents data into numerical data\n",
        "df['Dependents'] = df.Dependents.map(lambda p: 3 if p=='3+' else p)"
      ],
      "execution_count": 0,
      "outputs": []
    },
    {
      "cell_type": "code",
      "metadata": {
        "id": "R5cb3o0XDlJn",
        "colab_type": "code",
        "outputId": "3fbfe9f6-64b3-421a-f771-360eba655a73",
        "colab": {
          "base_uri": "https://localhost:8080/",
          "height": 326
        }
      },
      "source": [
        "# Conerting the data into their correct datatypees\n",
        "df['Dependents'] = df['Dependents'].astype('int')\n",
        "df['Married'] = df['Married'].astype('category')\n",
        "df['Education'] = df['Education'].astype('category')\n",
        "df['Self_Employed'] = df['Self_Employed'].astype('category')\n",
        "df['Gender'] = df['Gender'].astype('category')\n",
        "df['Property_Area'] = df['Property_Area'].astype('category')\n",
        "\n",
        "df.dtypes"
      ],
      "execution_count": 179,
      "outputs": [
        {
          "output_type": "execute_result",
          "data": {
            "text/plain": [
              "Gender               category\n",
              "Married              category\n",
              "Dependents              int64\n",
              "Education            category\n",
              "Self_Employed        category\n",
              "ApplicantIncome         int64\n",
              "CoapplicantIncome     float64\n",
              "LoanAmount            float64\n",
              "Loan_Amount_Term      float64\n",
              "Credit_History        float64\n",
              "Property_Area        category\n",
              "LoanAmount_log        float64\n",
              "TotalIncome           float64\n",
              "TotalIncome_log       float64\n",
              "CreditWorthiness      float64\n",
              "Loan_Status            object\n",
              "dtype: object"
            ]
          },
          "metadata": {
            "tags": []
          },
          "execution_count": 179
        }
      ]
    },
    {
      "cell_type": "code",
      "metadata": {
        "id": "KSfRSQfA_HMI",
        "colab_type": "code",
        "outputId": "369ced1f-c373-4b20-9dc5-ab7f19b5150a",
        "colab": {
          "base_uri": "https://localhost:8080/",
          "height": 108
        }
      },
      "source": [
        "df.Dependents.value_counts() \n",
        "# data is now numerical"
      ],
      "execution_count": 180,
      "outputs": [
        {
          "output_type": "execute_result",
          "data": {
            "text/plain": [
              "0    360\n",
              "1    102\n",
              "2    101\n",
              "3     51\n",
              "Name: Dependents, dtype: int64"
            ]
          },
          "metadata": {
            "tags": []
          },
          "execution_count": 180
        }
      ]
    },
    {
      "cell_type": "code",
      "metadata": {
        "id": "zw87A_d4_m4H",
        "colab_type": "code",
        "outputId": "f58e4920-2e04-4c12-df81-2cbfe503754c",
        "colab": {
          "base_uri": "https://localhost:8080/",
          "height": 128
        }
      },
      "source": [
        "df.head(2)"
      ],
      "execution_count": 181,
      "outputs": [
        {
          "output_type": "execute_result",
          "data": {
            "text/html": [
              "<div>\n",
              "<style scoped>\n",
              "    .dataframe tbody tr th:only-of-type {\n",
              "        vertical-align: middle;\n",
              "    }\n",
              "\n",
              "    .dataframe tbody tr th {\n",
              "        vertical-align: top;\n",
              "    }\n",
              "\n",
              "    .dataframe thead th {\n",
              "        text-align: right;\n",
              "    }\n",
              "</style>\n",
              "<table border=\"1\" class=\"dataframe\">\n",
              "  <thead>\n",
              "    <tr style=\"text-align: right;\">\n",
              "      <th></th>\n",
              "      <th>Gender</th>\n",
              "      <th>Married</th>\n",
              "      <th>Dependents</th>\n",
              "      <th>Education</th>\n",
              "      <th>Self_Employed</th>\n",
              "      <th>ApplicantIncome</th>\n",
              "      <th>CoapplicantIncome</th>\n",
              "      <th>LoanAmount</th>\n",
              "      <th>Loan_Amount_Term</th>\n",
              "      <th>Credit_History</th>\n",
              "      <th>Property_Area</th>\n",
              "      <th>LoanAmount_log</th>\n",
              "      <th>TotalIncome</th>\n",
              "      <th>TotalIncome_log</th>\n",
              "      <th>CreditWorthiness</th>\n",
              "      <th>Loan_Status</th>\n",
              "    </tr>\n",
              "  </thead>\n",
              "  <tbody>\n",
              "    <tr>\n",
              "      <th>0</th>\n",
              "      <td>Male</td>\n",
              "      <td>No</td>\n",
              "      <td>0</td>\n",
              "      <td>Graduate</td>\n",
              "      <td>No</td>\n",
              "      <td>5849</td>\n",
              "      <td>0.0</td>\n",
              "      <td>130.0</td>\n",
              "      <td>360.0</td>\n",
              "      <td>1.0</td>\n",
              "      <td>Urban</td>\n",
              "      <td>4.867534</td>\n",
              "      <td>5849.0</td>\n",
              "      <td>8.674026</td>\n",
              "      <td>0.022226</td>\n",
              "      <td>Y</td>\n",
              "    </tr>\n",
              "    <tr>\n",
              "      <th>1</th>\n",
              "      <td>Male</td>\n",
              "      <td>Yes</td>\n",
              "      <td>1</td>\n",
              "      <td>Graduate</td>\n",
              "      <td>No</td>\n",
              "      <td>4583</td>\n",
              "      <td>1508.0</td>\n",
              "      <td>128.0</td>\n",
              "      <td>360.0</td>\n",
              "      <td>1.0</td>\n",
              "      <td>Rural</td>\n",
              "      <td>4.852030</td>\n",
              "      <td>6091.0</td>\n",
              "      <td>8.714568</td>\n",
              "      <td>0.021015</td>\n",
              "      <td>N</td>\n",
              "    </tr>\n",
              "  </tbody>\n",
              "</table>\n",
              "</div>"
            ],
            "text/plain": [
              "  Gender Married  Dependents  ... TotalIncome_log CreditWorthiness  Loan_Status\n",
              "0   Male      No           0  ...        8.674026         0.022226            Y\n",
              "1   Male     Yes           1  ...        8.714568         0.021015            N\n",
              "\n",
              "[2 rows x 16 columns]"
            ]
          },
          "metadata": {
            "tags": []
          },
          "execution_count": 181
        }
      ]
    },
    {
      "cell_type": "code",
      "metadata": {
        "id": "op6agk0Z7g8V",
        "colab_type": "code",
        "colab": {}
      },
      "source": [
        "# Converting data into numpy array\n",
        "X_temp= df.iloc[:,:-1].values# array of features\n",
        "\n",
        "Y_temp= df.iloc[:, -1].values# aray of labels"
      ],
      "execution_count": 0,
      "outputs": []
    },
    {
      "cell_type": "code",
      "metadata": {
        "id": "Ldr-MK4g-W8u",
        "colab_type": "code",
        "colab": {}
      },
      "source": [
        "col=df.columns"
      ],
      "execution_count": 0,
      "outputs": []
    },
    {
      "cell_type": "code",
      "metadata": {
        "id": "tjtOD2gWqrJz",
        "colab_type": "code",
        "colab": {}
      },
      "source": [
        "col=df.columns\n",
        "idx = [col.get_loc(\"Gender\"), col.get_loc(\"Married\"), col.get_loc(\"Education\"),col.get_loc(\"Self_Employed\") ,col.get_loc(\"Property_Area\")]"
      ],
      "execution_count": 0,
      "outputs": []
    },
    {
      "cell_type": "code",
      "metadata": {
        "id": "gQ3ZA63Ewg6w",
        "colab_type": "code",
        "outputId": "49d89845-b7ce-420b-c415-63102f62043e",
        "colab": {
          "base_uri": "https://localhost:8080/",
          "height": 35
        }
      },
      "source": [
        "idx"
      ],
      "execution_count": 185,
      "outputs": [
        {
          "output_type": "execute_result",
          "data": {
            "text/plain": [
              "[0, 1, 3, 4, 10]"
            ]
          },
          "metadata": {
            "tags": []
          },
          "execution_count": 185
        }
      ]
    },
    {
      "cell_type": "code",
      "metadata": {
        "id": "GjyJXJq180p0",
        "colab_type": "code",
        "colab": {}
      },
      "source": [
        "X=X_temp[:][:]\n",
        "Y=Y_temp[:]"
      ],
      "execution_count": 0,
      "outputs": []
    },
    {
      "cell_type": "code",
      "metadata": {
        "id": "BqJfE-Bg6jYB",
        "colab_type": "code",
        "colab": {}
      },
      "source": [
        "# label Encoding the categorical features\n",
        "from sklearn.preprocessing import LabelEncoder\n",
        "lbe_X= LabelEncoder() \n",
        "X[:,0]= lbe_X.fit_transform(X_temp[:,0])\n",
        "X[:,1]= lbe_X.fit_transform(X_temp[:,1])\n",
        "X[:,3]= lbe_X.fit_transform(X_temp[:,3])\n",
        "X[:,4]= lbe_X.fit_transform(X_temp[:,4])\n",
        "X[:,10]= lbe_X.fit_transform(X_temp[:,10])"
      ],
      "execution_count": 0,
      "outputs": []
    },
    {
      "cell_type": "code",
      "metadata": {
        "id": "lEiG4Wy_zQFc",
        "colab_type": "code",
        "colab": {}
      },
      "source": [
        "# Encoding the labels\n",
        "lbe_y=LabelEncoder()\n",
        "Y= lbe_y.fit_transform(Y_temp)"
      ],
      "execution_count": 0,
      "outputs": []
    },
    {
      "cell_type": "code",
      "metadata": {
        "id": "6Qj03VKg-yEA",
        "colab_type": "code",
        "colab": {
          "base_uri": "https://localhost:8080/",
          "height": 35
        },
        "outputId": "919c7a66-9626-4612-f4cd-586a83e106e0"
      },
      "source": [
        "# Splitting the dataset into training and testing sets\n",
        "\n",
        "from sklearn.model_selection import train_test_split\n",
        "X_train,X_val,Y_train,Y_val=train_test_split(X,Y,test_size=0.1,stratify=Y,random_state=0)\n",
        "print(X_train.shape,X_val.shape,Y_train.shape,Y_val.shape)"
      ],
      "execution_count": 244,
      "outputs": [
        {
          "output_type": "stream",
          "text": [
            "(552, 15) (62, 15) (552,) (62,)\n"
          ],
          "name": "stdout"
        }
      ]
    },
    {
      "cell_type": "code",
      "metadata": {
        "id": "IlnC9ddw-3YI",
        "colab_type": "code",
        "colab": {}
      },
      "source": [
        "#StandardScaling the data\n",
        "from sklearn.preprocessing import StandardScaler\n",
        "sc = StandardScaler()\n",
        "X_train = sc.fit_transform(X_train)\n",
        "X_val = sc.transform(X_val)"
      ],
      "execution_count": 0,
      "outputs": []
    },
    {
      "cell_type": "code",
      "metadata": {
        "id": "LzuyJqLp_JtO",
        "colab_type": "code",
        "colab": {}
      },
      "source": [
        "import torch\n",
        "import torch.nn as nn\n",
        "import torch.optim  as optim"
      ],
      "execution_count": 0,
      "outputs": []
    },
    {
      "cell_type": "code",
      "metadata": {
        "id": "WfAP_pFD-58U",
        "colab_type": "code",
        "colab": {}
      },
      "source": [
        "# Converting Numpy arrays to Pytorch Tensors after applying scaling\n",
        "\n",
        "X_train,X_val,Y_train,Y_val = map(torch.tensor,(X_train,X_val,Y_train,Y_val))"
      ],
      "execution_count": 0,
      "outputs": []
    },
    {
      "cell_type": "code",
      "metadata": {
        "id": "CXVG8sB8-8TO",
        "colab_type": "code",
        "colab": {}
      },
      "source": [
        "class FFNetwork(nn.Module):\n",
        "    def __init__(self, x):\n",
        "        super().__init__()\n",
        "        torch.manual_seed(0)\n",
        "        self.net= nn.Sequential(nn.Linear(x.shape[1],1),nn.Sigmoid())\n",
        "        \n",
        "    def forward(self,X):\n",
        "        return self.net(X)"
      ],
      "execution_count": 0,
      "outputs": []
    },
    {
      "cell_type": "code",
      "metadata": {
        "id": "oKhOKpIs-_OY",
        "colab_type": "code",
        "colab": {}
      },
      "source": [
        "from sklearn.metrics import accuracy_score\n",
        "def accuracy(y_hat, y):\n",
        "  pred= torch.Tensor([1 if hat>= 0.5 else 0 for hat in y_hat])\n",
        "  pred= pred.view(-1,1).float()\n",
        "  return accuracy_score(pred, y)"
      ],
      "execution_count": 0,
      "outputs": []
    },
    {
      "cell_type": "markdown",
      "metadata": {
        "id": "qV6uV0UMy7DW",
        "colab_type": "text"
      },
      "source": [
        "# Creating the model"
      ]
    },
    {
      "cell_type": "code",
      "metadata": {
        "id": "i-jSTNwgwrHq",
        "colab_type": "code",
        "colab": {}
      },
      "source": [
        "def fit(x, y, model, loss_function, l_r, epochs=1000, mini_batch_size = 64):\n",
        "    loss_arr=[]\n",
        "    loss_per_epoch=[]\n",
        "    acc_arr=[]\n",
        "    test_acc_arr=[]\n",
        "    opt=optim.SGD(fn.parameters(),lr= l_r)\n",
        "    m = x.shape[0]\n",
        "    for epochs in range(epochs):\n",
        "        for k in range(0, m, mini_batch_size):\n",
        "            x_mini , y_mini = x[k:k+mini_batch_size], y[k:k+mini_batch_size]\n",
        "            y_hat=fn(x_mini.float())\n",
        "            # print(y_hat.shape, y_mini.shape)\n",
        "            loss=loss_function(y_hat, y_mini.view(-1,1).float())\n",
        "            loss_arr.append(loss.item())\n",
        "            \n",
        "            loss.backward()\n",
        "            opt.step()\n",
        "            opt.zero_grad()\n",
        "        loss_per_epoch.append(loss.item())\n",
        "        acc_arr.append(accuracy(y_hat, y_mini.view(-1,1).float()))\n",
        "        test_acc_arr.append(accuracy(fn(X_val.float()), Y_val.view(-1,1).float()))\n",
        "    plt.plot(loss_per_epoch, 'r')\n",
        "    plt.plot(acc_arr,'b')\n",
        "    plt.plot(test_acc_arr, 'g')\n",
        "    plt.show()\n",
        "    print('Loss before training', loss_arr[0])\n",
        "    print('Loss after training', loss_arr[-1])\n",
        "    print('Accuracy', acc_arr[-1])"
      ],
      "execution_count": 0,
      "outputs": []
    },
    {
      "cell_type": "code",
      "metadata": {
        "id": "sqrLw3jv_jV5",
        "colab_type": "code",
        "colab": {
          "base_uri": "https://localhost:8080/",
          "height": 342
        },
        "outputId": "e50c75cf-6406-42aa-fab4-5ed184d25baa"
      },
      "source": [
        "fn = FFNetwork(X_train)\n",
        "# fn.to(device)\n",
        "#Training on training data\n",
        "loss_fn=nn.BCELoss()\n",
        "fit(X_train, Y_train, fn, loss_function= loss_fn, l_r= 0.05, epochs=4, mini_batch_size = 32)\n",
        "print(\"Test accuracy:\",accuracy(fn(X_val.float()), Y_val.float()))"
      ],
      "execution_count": 259,
      "outputs": [
        {
          "output_type": "display_data",
          "data": {
            "image/png": "[encoded data removed]",
            "text/plain": [
              "<Figure size 432x288 with 1 Axes>"
            ]
          },
          "metadata": {
            "tags": []
          }
        },
        {
          "output_type": "stream",
          "text": [
            "Loss before training 0.6945523023605347\n",
            "Loss after training 0.4758136570453644\n",
            "Accuracy 0.875\n",
            "Test accuracy: 0.8387096774193549\n"
          ],
          "name": "stdout"
        }
      ]
    },
    {
      "cell_type": "code",
      "metadata": {
        "id": "b7TI5reHCfkf",
        "colab_type": "code",
        "colab": {}
      },
      "source": [
        "import matplotlib.pyplot as plt"
      ],
      "execution_count": 0,
      "outputs": []
    },
    {
      "cell_type": "code",
      "metadata": {
        "id": "jMLnUcZMBnKP",
        "colab_type": "code",
        "colab": {
          "base_uri": "https://localhost:8080/",
          "height": 396
        },
        "outputId": "894b6485-c304-4ac8-b6f8-6b3ba5ce3bcd"
      },
      "source": [
        "w1=np.array(fn.net[0].weight[0].data.clone().detach())\n",
        "plt.figure(figsize=(14,6))\n",
        "plt.plot(w1)"
      ],
      "execution_count": 254,
      "outputs": [
        {
          "output_type": "execute_result",
          "data": {
            "text/plain": [
              "[<matplotlib.lines.Line2D at 0x7fcdaa31db38>]"
            ]
          },
          "metadata": {
            "tags": []
          },
          "execution_count": 254
        },
        {
          "output_type": "display_data",
          "data": {
            "image/png": "[encoded data removed]",
            "text/plain": [
              "<Figure size 1008x432 with 1 Axes>"
            ]
          },
          "metadata": {
            "tags": []
          }
        }
      ]
    },
    {
      "cell_type": "code",
      "metadata": {
        "id": "rXE8hwHSCq1f",
        "colab_type": "code",
        "colab": {
          "base_uri": "https://localhost:8080/",
          "height": 35
        },
        "outputId": "2915b8ea-9430-45f6-da65-9b2a38f4baf8"
      },
      "source": [
        "df.shape"
      ],
      "execution_count": 224,
      "outputs": [
        {
          "output_type": "execute_result",
          "data": {
            "text/plain": [
              "(614, 16)"
            ]
          },
          "metadata": {
            "tags": []
          },
          "execution_count": 224
        }
      ]
    },
    {
      "cell_type": "code",
      "metadata": {
        "id": "IpUMCRqnDQ67",
        "colab_type": "code",
        "colab": {
          "base_uri": "https://localhost:8080/",
          "height": 35
        },
        "outputId": "9a1f1563-c020-44dd-e6e1-a7b4142ea834"
      },
      "source": [
        "X_train.shape"
      ],
      "execution_count": 225,
      "outputs": [
        {
          "output_type": "execute_result",
          "data": {
            "text/plain": [
              "torch.Size([460, 15])"
            ]
          },
          "metadata": {
            "tags": []
          },
          "execution_count": 225
        }
      ]
    }
  ]
}